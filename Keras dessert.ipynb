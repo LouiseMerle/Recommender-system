{
 "cells": [
  {
   "cell_type": "code",
   "execution_count": 1,
   "metadata": {},
   "outputs": [
    {
     "name": "stderr",
     "output_type": "stream",
     "text": [
      "Using TensorFlow backend.\n"
     ]
    }
   ],
   "source": [
    "from sklearn.model_selection import train_test_split\n",
    "import pandas as pd\n",
    "from keras.layers import Input, Embedding, Flatten, Dot, Dense\n",
    "from keras.models import Model\n",
    "import numpy as np\n",
    "import matplotlib.pyplot as plt\n",
    "from sklearn.preprocessing import MinMaxScaler\n",
    "\n",
    "from sklearn.decomposition import PCA\n",
    "import seaborn as sns\n",
    "\n",
    "from IPython.display import SVG\n",
    "from keras.utils.vis_utils import model_to_dot\n",
    "\n",
    "from keras.models import load_model\n",
    "\n",
    "from sklearn.metrics import mean_absolute_error"
   ]
  },
  {
   "cell_type": "code",
   "execution_count": 2,
   "metadata": {},
   "outputs": [],
   "source": [
    "def change_number(unique_lst):\n",
    "    unique = pd.DataFrame(unique_lst).reset_index()\n",
    "    indexes = unique['index']\n",
    "    ids = unique[0]\n",
    "    tuple_zip = list(zip(ids, indexes))\n",
    "    dic = dict((x, y) for x, y in tuple_zip)\n",
    "    reverse_dic = dict((y, x) for x, y in tuple_zip)\n",
    "    return dic, reverse_dic"
   ]
  },
  {
   "cell_type": "code",
   "execution_count": 3,
   "metadata": {},
   "outputs": [],
   "source": [
    "ratings2 = pd.read_csv('ratings_dessert.csv')\n",
    "\n",
    "rating_count2 = ratings2.groupby('recipe_id')['rating'].count().reset_index()\n",
    "rating_count = rating_count2.rename(columns = {'rating':'review_count'})\n",
    "\n",
    "threshold = 10\n",
    "rating_count = rating_count.query('review_count >= @threshold')\n",
    "rating_count\n",
    "\n",
    "recipe_rating = pd.merge(rating_count, ratings2, left_on='recipe_id', right_on='recipe_id', how='left')\n",
    "\n",
    "user_count2 = ratings2.groupby('user_id')['rating'].count().reset_index()\n",
    "user_count = user_count2.rename(columns = {'rating':'user_count'})\n",
    "    \n",
    "threshold = 10\n",
    "user_count = user_count.query('user_count >= @threshold')\n",
    "\n",
    "ratings = pd.merge(user_count, recipe_rating, left_on = 'user_id', right_on = 'user_id', how = 'inner')\n",
    "\n",
    "ratings.to_csv('result_dessertMF.csv', index=False)"
   ]
  },
  {
   "cell_type": "code",
   "execution_count": 4,
   "metadata": {},
   "outputs": [],
   "source": [
    "unique_users = list(ratings['user_id'].unique())\n",
    "unique_recipe = list(ratings['recipe_id'].unique())"
   ]
  },
  {
   "cell_type": "code",
   "execution_count": 5,
   "metadata": {},
   "outputs": [],
   "source": [
    "\n",
    "dic_user, dummy = change_number(unique_users)\n",
    "\n",
    "ratings['user_id'] = ratings['user_id'].replace(dic_user)"
   ]
  },
  {
   "cell_type": "code",
   "execution_count": 6,
   "metadata": {},
   "outputs": [],
   "source": [
    "dic_recipe, dic_recipe_reverse = change_number(unique_recipe)\n",
    "\n",
    "ratings['recipe_id'] = ratings['recipe_id'].replace(dic_recipe)"
   ]
  },
  {
   "cell_type": "markdown",
   "metadata": {},
   "source": [
    "### scale values "
   ]
  },
  {
   "cell_type": "code",
   "execution_count": 7,
   "metadata": {},
   "outputs": [],
   "source": [
    "scaler = MinMaxScaler()\n",
    "ratings['rating'] = ratings['rating'].values.astype(float)\n",
    "rating_scaled = pd.DataFrame(scaler.fit_transform(ratings['rating'].values.reshape(-1,1)))\n",
    "ratings['rating'] = rating_scaled"
   ]
  },
  {
   "cell_type": "markdown",
   "metadata": {},
   "source": [
    "### Split "
   ]
  },
  {
   "cell_type": "code",
   "execution_count": 8,
   "metadata": {},
   "outputs": [],
   "source": [
    "train, test = train_test_split(ratings, test_size=0.2)"
   ]
  },
  {
   "cell_type": "markdown",
   "metadata": {},
   "source": [
    "### number of users and items "
   ]
  },
  {
   "cell_type": "code",
   "execution_count": 9,
   "metadata": {},
   "outputs": [
    {
     "name": "stdout",
     "output_type": "stream",
     "text": [
      "users 2883\n",
      "recipe 3643\n"
     ]
    }
   ],
   "source": [
    "n_users = ratings.user_id.nunique()\n",
    "print('users', n_users)\n",
    "n_items = ratings.recipe_id.nunique()\n",
    "print('recipe', n_items)"
   ]
  },
  {
   "cell_type": "markdown",
   "metadata": {},
   "source": [
    "### Drop\n"
   ]
  },
  {
   "cell_type": "code",
   "execution_count": 10,
   "metadata": {},
   "outputs": [],
   "source": [
    "ratings = ratings.drop(columns = ['user_count', 'review_count'])"
   ]
  },
  {
   "cell_type": "markdown",
   "metadata": {},
   "source": [
    "### Make model "
   ]
  },
  {
   "cell_type": "code",
   "execution_count": 11,
   "metadata": {},
   "outputs": [],
   "source": [
    "recipe_input = Input(shape=[1], name=\"Recipe-Input\")\n",
    "\n",
    "recipe_embedding = Embedding(n_items+1, 20, name=\"Recipe-Embedding\")(recipe_input)\n",
    "recipe_vec = Flatten(name=\"Flatten-Recipe\")(recipe_embedding)\n",
    "\n",
    "user_input = Input(shape=[1], name=\"User-Input\")\n",
    "user_embedding = Embedding(n_users+1, 20, name=\"User-Embedding\")(user_input)\n",
    "user_vec = Flatten(name=\"Flatten-Users\")(user_embedding)\n",
    "\n",
    "prod = Dot(name=\"Dot-Product\", axes=1)([recipe_vec, user_vec])\n",
    "model = Model([user_input, recipe_input], prod)\n",
    "model.compile(loss = 'mean_absolute_error', optimizer='adam')"
   ]
  },
  {
   "cell_type": "code",
   "execution_count": 12,
   "metadata": {},
   "outputs": [
    {
     "name": "stderr",
     "output_type": "stream",
     "text": [
      "/Users/louise/opt/anaconda3/lib/python3.7/site-packages/tensorflow_core/python/framework/indexed_slices.py:424: UserWarning: Converting sparse IndexedSlices to a dense Tensor of unknown shape. This may consume a large amount of memory.\n",
      "  \"Converting sparse IndexedSlices to a dense Tensor of unknown shape. \"\n"
     ]
    },
    {
     "name": "stdout",
     "output_type": "stream",
     "text": [
      "Epoch 1/100\n",
      "36806/36806 [==============================] - 4s 95us/step - loss: 0.9274\n",
      "Epoch 2/100\n",
      "36806/36806 [==============================] - 3s 82us/step - loss: 0.7551\n",
      "Epoch 3/100\n",
      "36806/36806 [==============================] - 4s 115us/step - loss: 0.3560\n",
      "Epoch 4/100\n",
      "36806/36806 [==============================] - 4s 112us/step - loss: 0.1700\n",
      "Epoch 5/100\n",
      "36806/36806 [==============================] - 4s 116us/step - loss: 0.1169\n",
      "Epoch 6/100\n",
      "36806/36806 [==============================] - 4s 119us/step - loss: 0.0995\n",
      "Epoch 7/100\n",
      "36806/36806 [==============================] - 5s 143us/step - loss: 0.0904\n",
      "Epoch 8/100\n",
      "36806/36806 [==============================] - 4s 117us/step - loss: 0.0843\n",
      "Epoch 9/100\n",
      "36806/36806 [==============================] - 4s 107us/step - loss: 0.0792\n",
      "Epoch 10/100\n",
      "36806/36806 [==============================] - 4s 99us/step - loss: 0.0747\n",
      "Epoch 11/100\n",
      "36806/36806 [==============================] - 5s 142us/step - loss: 0.0715\n",
      "Epoch 12/100\n",
      "36806/36806 [==============================] - 4s 105us/step - loss: 0.0685\n",
      "Epoch 13/100\n",
      "36806/36806 [==============================] - 4s 112us/step - loss: 0.0657\n",
      "Epoch 14/100\n",
      "36806/36806 [==============================] - 5s 139us/step - loss: 0.0630\n",
      "Epoch 15/100\n",
      "36806/36806 [==============================] - 5s 148us/step - loss: 0.0614\n",
      "Epoch 16/100\n",
      "36806/36806 [==============================] - 5s 133us/step - loss: 0.0595\n",
      "Epoch 17/100\n",
      "36806/36806 [==============================] - 5s 136us/step - loss: 0.0582\n",
      "Epoch 18/100\n",
      "36806/36806 [==============================] - 4s 111us/step - loss: 0.0566\n",
      "Epoch 19/100\n",
      "36806/36806 [==============================] - 3s 95us/step - loss: 0.0556\n",
      "Epoch 20/100\n",
      "36806/36806 [==============================] - 3s 90us/step - loss: 0.0544\n",
      "Epoch 21/100\n",
      "36806/36806 [==============================] - 3s 79us/step - loss: 0.0532\n",
      "Epoch 22/100\n",
      "36806/36806 [==============================] - 3s 79us/step - loss: 0.0526\n",
      "Epoch 23/100\n",
      "36806/36806 [==============================] - 3s 83us/step - loss: 0.0517\n",
      "Epoch 24/100\n",
      "36806/36806 [==============================] - 3s 82us/step - loss: 0.0508\n",
      "Epoch 25/100\n",
      "36806/36806 [==============================] - 4s 116us/step - loss: 0.0506\n",
      "Epoch 26/100\n",
      "36806/36806 [==============================] - 6s 158us/step - loss: 0.0497\n",
      "Epoch 27/100\n",
      "36806/36806 [==============================] - 4s 120us/step - loss: 0.0491\n",
      "Epoch 28/100\n",
      "36806/36806 [==============================] - 3s 91us/step - loss: 0.0491\n",
      "Epoch 29/100\n",
      "36806/36806 [==============================] - 3s 81us/step - loss: 0.0486\n",
      "Epoch 30/100\n",
      "36806/36806 [==============================] - 3s 81us/step - loss: 0.0483\n",
      "Epoch 31/100\n",
      "36806/36806 [==============================] - 3s 79us/step - loss: 0.0474\n",
      "Epoch 32/100\n",
      "36806/36806 [==============================] - 3s 81us/step - loss: 0.0476\n",
      "Epoch 33/100\n",
      "36806/36806 [==============================] - 3s 89us/step - loss: 0.0471\n",
      "Epoch 34/100\n",
      "36806/36806 [==============================] - 3s 79us/step - loss: 0.0471\n",
      "Epoch 35/100\n",
      "36806/36806 [==============================] - 3s 78us/step - loss: 0.0468\n",
      "Epoch 36/100\n",
      "36806/36806 [==============================] - 3s 81us/step - loss: 0.0464\n",
      "Epoch 37/100\n",
      "36806/36806 [==============================] - 3s 79us/step - loss: 0.0463\n",
      "Epoch 38/100\n",
      "36806/36806 [==============================] - 3s 79us/step - loss: 0.0460\n",
      "Epoch 39/100\n",
      "36806/36806 [==============================] - 3s 87us/step - loss: 0.0460\n",
      "Epoch 40/100\n",
      "36806/36806 [==============================] - 3s 80us/step - loss: 0.0457\n",
      "Epoch 41/100\n",
      "36806/36806 [==============================] - 3s 80us/step - loss: 0.0454\n",
      "Epoch 42/100\n",
      "36806/36806 [==============================] - 3s 83us/step - loss: 0.0455\n",
      "Epoch 43/100\n",
      "36806/36806 [==============================] - 3s 81us/step - loss: 0.0452\n",
      "Epoch 44/100\n",
      "36806/36806 [==============================] - 3s 92us/step - loss: 0.0450\n",
      "Epoch 45/100\n",
      "36806/36806 [==============================] - 4s 100us/step - loss: 0.0449\n",
      "Epoch 46/100\n",
      "36806/36806 [==============================] - 3s 85us/step - loss: 0.0449\n",
      "Epoch 47/100\n",
      "36806/36806 [==============================] - 3s 81us/step - loss: 0.0448\n",
      "Epoch 48/100\n",
      "36806/36806 [==============================] - 3s 79us/step - loss: 0.0446\n",
      "Epoch 49/100\n",
      "36806/36806 [==============================] - 3s 79us/step - loss: 0.0444\n",
      "Epoch 50/100\n",
      "36806/36806 [==============================] - 3s 94us/step - loss: 0.0446\n",
      "Epoch 51/100\n",
      "36806/36806 [==============================] - 4s 99us/step - loss: 0.0444\n",
      "Epoch 52/100\n",
      "36806/36806 [==============================] - 4s 109us/step - loss: 0.0443 0s -\n",
      "Epoch 53/100\n",
      "36806/36806 [==============================] - 4s 111us/step - loss: 0.0442\n",
      "Epoch 54/100\n",
      "36806/36806 [==============================] - 5s 138us/step - loss: 0.0442\n",
      "Epoch 55/100\n",
      "36806/36806 [==============================] - 4s 122us/step - loss: 0.0440\n",
      "Epoch 56/100\n",
      "36806/36806 [==============================] - 4s 115us/step - loss: 0.0441\n",
      "Epoch 57/100\n",
      "36806/36806 [==============================] - 4s 109us/step - loss: 0.0440\n",
      "Epoch 58/100\n",
      "36806/36806 [==============================] - 4s 98us/step - loss: 0.0437: 0s - loss: 0.0\n",
      "Epoch 59/100\n",
      "36806/36806 [==============================] - 4s 114us/step - loss: 0.0440\n",
      "Epoch 60/100\n",
      "36806/36806 [==============================] - 3s 94us/step - loss: 0.0436\n",
      "Epoch 61/100\n",
      "36806/36806 [==============================] - 3s 92us/step - loss: 0.0437\n",
      "Epoch 62/100\n",
      "36806/36806 [==============================] - 3s 90us/step - loss: 0.0438\n",
      "Epoch 63/100\n",
      "36806/36806 [==============================] - 3s 95us/step - loss: 0.0435\n",
      "Epoch 64/100\n",
      "36806/36806 [==============================] - 3s 88us/step - loss: 0.0434\n",
      "Epoch 65/100\n",
      "36806/36806 [==============================] - 3s 85us/step - loss: 0.0436\n",
      "Epoch 66/100\n",
      "36806/36806 [==============================] - 3s 82us/step - loss: 0.0432\n",
      "Epoch 67/100\n",
      "36806/36806 [==============================] - 3s 85us/step - loss: 0.0436\n",
      "Epoch 68/100\n",
      "36806/36806 [==============================] - 3s 82us/step - loss: 0.0435: 0s - loss\n",
      "Epoch 69/100\n",
      "36806/36806 [==============================] - 3s 83us/step - loss: 0.0431\n",
      "Epoch 70/100\n",
      "36806/36806 [==============================] - 3s 86us/step - loss: 0.0433\n",
      "Epoch 71/100\n",
      "36806/36806 [==============================] - 3s 94us/step - loss: 0.0431\n",
      "Epoch 72/100\n",
      "36806/36806 [==============================] - 4s 96us/step - loss: 0.0433\n",
      "Epoch 73/100\n",
      "36806/36806 [==============================] - 3s 83us/step - loss: 0.0433:\n",
      "Epoch 74/100\n",
      "36806/36806 [==============================] - 3s 74us/step - loss: 0.0431\n",
      "Epoch 75/100\n",
      "36806/36806 [==============================] - 3s 92us/step - loss: 0.0430\n",
      "Epoch 76/100\n",
      "36806/36806 [==============================] - 3s 92us/step - loss: 0.0432\n",
      "Epoch 77/100\n",
      "36806/36806 [==============================] - 3s 87us/step - loss: 0.0431\n",
      "Epoch 78/100\n",
      "36806/36806 [==============================] - 3s 84us/step - loss: 0.0431\n",
      "Epoch 79/100\n",
      "36806/36806 [==============================] - 3s 76us/step - loss: 0.0428\n",
      "Epoch 80/100\n",
      "36806/36806 [==============================] - 3s 93us/step - loss: 0.0430\n",
      "Epoch 81/100\n",
      "36806/36806 [==============================] - 3s 77us/step - loss: 0.0428\n",
      "Epoch 82/100\n",
      "36806/36806 [==============================] - 3s 94us/step - loss: 0.0429\n",
      "Epoch 83/100\n",
      "36806/36806 [==============================] - 4s 97us/step - loss: 0.0429\n",
      "Epoch 84/100\n",
      "36806/36806 [==============================] - 3s 93us/step - loss: 0.0426\n",
      "Epoch 85/100\n",
      "36806/36806 [==============================] - 3s 92us/step - loss: 0.0430\n",
      "Epoch 86/100\n",
      "36806/36806 [==============================] - 3s 89us/step - loss: 0.0427\n",
      "Epoch 87/100\n",
      "36806/36806 [==============================] - 3s 89us/step - loss: 0.0427\n",
      "Epoch 88/100\n",
      "36806/36806 [==============================] - 3s 83us/step - loss: 0.0426\n",
      "Epoch 89/100\n",
      "36806/36806 [==============================] - 3s 94us/step - loss: 0.0426\n",
      "Epoch 90/100\n",
      "36806/36806 [==============================] - 4s 97us/step - loss: 0.0426\n",
      "Epoch 91/100\n",
      "36806/36806 [==============================] - 3s 86us/step - loss: 0.0425\n",
      "Epoch 92/100\n",
      "36806/36806 [==============================] - 3s 92us/step - loss: 0.0427\n",
      "Epoch 93/100\n"
     ]
    },
    {
     "name": "stdout",
     "output_type": "stream",
     "text": [
      "36806/36806 [==============================] - 3s 83us/step - loss: 0.0424: 0\n",
      "Epoch 94/100\n",
      "36806/36806 [==============================] - 3s 85us/step - loss: 0.0426\n",
      "Epoch 95/100\n",
      "36806/36806 [==============================] - 3s 81us/step - loss: 0.0424\n",
      "Epoch 96/100\n",
      "36806/36806 [==============================] - 3s 79us/step - loss: 0.0422\n",
      "Epoch 97/100\n",
      "36806/36806 [==============================] - 3s 84us/step - loss: 0.0426\n",
      "Epoch 98/100\n",
      "36806/36806 [==============================] - 3s 88us/step - loss: 0.0422\n",
      "Epoch 99/100\n",
      "36806/36806 [==============================] - 3s 79us/step - loss: 0.0425\n",
      "Epoch 100/100\n",
      "36806/36806 [==============================] - 3s 77us/step - loss: 0.0423\n"
     ]
    }
   ],
   "source": [
    "history = model.fit([train.user_id, train.recipe_id], train.rating, epochs=100, verbose=1)\n",
    "model.save('Dessert_MF_R10U10.h5')"
   ]
  },
  {
   "cell_type": "code",
   "execution_count": 13,
   "metadata": {},
   "outputs": [
    {
     "data": {
      "image/svg+xml": [
       "<svg height=\"395pt\" viewBox=\"0.00 0.00 697.97 296.00\" width=\"931pt\" xmlns=\"http://www.w3.org/2000/svg\" xmlns:xlink=\"http://www.w3.org/1999/xlink\">\n",
       "<g class=\"graph\" id=\"graph0\" transform=\"scale(0.75 0.75) rotate(0) translate(4 292)\">\n",
       "<title>G</title>\n",
       "<polygon fill=\"white\" points=\"-4,4 -4,-292 693.97,-292 693.97,4 -4,4\" stroke=\"transparent\"/>\n",
       "<!-- 112632756432 -->\n",
       "<g class=\"node\" id=\"node1\">\n",
       "<title>112632756432</title>\n",
       "<polygon fill=\"none\" points=\"29.17,-243.5 29.17,-287.5 313.16,-287.5 313.16,-243.5 29.17,-243.5\" stroke=\"black\"/>\n",
       "<text font-family=\"Times,serif\" font-size=\"14.00\" text-anchor=\"middle\" x=\"108.51\" y=\"-261.3\">Recipe-Input: InputLayer</text>\n",
       "<polyline fill=\"none\" points=\"187.84,-243.5 187.84,-287.5 \" stroke=\"black\"/>\n",
       "<text font-family=\"Times,serif\" font-size=\"14.00\" text-anchor=\"middle\" x=\"215.67\" y=\"-272.3\">input:</text>\n",
       "<polyline fill=\"none\" points=\"187.84,-265.5 243.51,-265.5 \" stroke=\"black\"/>\n",
       "<text font-family=\"Times,serif\" font-size=\"14.00\" text-anchor=\"middle\" x=\"215.67\" y=\"-250.3\">output:</text>\n",
       "<polyline fill=\"none\" points=\"243.51,-243.5 243.51,-287.5 \" stroke=\"black\"/>\n",
       "<text font-family=\"Times,serif\" font-size=\"14.00\" text-anchor=\"middle\" x=\"278.33\" y=\"-272.3\">(None, 1)</text>\n",
       "<polyline fill=\"none\" points=\"243.51,-265.5 313.16,-265.5 \" stroke=\"black\"/>\n",
       "<text font-family=\"Times,serif\" font-size=\"14.00\" text-anchor=\"middle\" x=\"278.33\" y=\"-250.3\">(None, 1)</text>\n",
       "</g>\n",
       "<!-- 112631706064 -->\n",
       "<g class=\"node\" id=\"node3\">\n",
       "<title>112631706064</title>\n",
       "<polygon fill=\"none\" points=\"0,-162.5 0,-206.5 342.33,-206.5 342.33,-162.5 0,-162.5\" stroke=\"black\"/>\n",
       "<text font-family=\"Times,serif\" font-size=\"14.00\" text-anchor=\"middle\" x=\"98.01\" y=\"-180.3\">Recipe-Embedding: Embedding</text>\n",
       "<polyline fill=\"none\" points=\"196.01,-162.5 196.01,-206.5 \" stroke=\"black\"/>\n",
       "<text font-family=\"Times,serif\" font-size=\"14.00\" text-anchor=\"middle\" x=\"223.85\" y=\"-191.3\">input:</text>\n",
       "<polyline fill=\"none\" points=\"196.01,-184.5 251.68,-184.5 \" stroke=\"black\"/>\n",
       "<text font-family=\"Times,serif\" font-size=\"14.00\" text-anchor=\"middle\" x=\"223.85\" y=\"-169.3\">output:</text>\n",
       "<polyline fill=\"none\" points=\"251.68,-162.5 251.68,-206.5 \" stroke=\"black\"/>\n",
       "<text font-family=\"Times,serif\" font-size=\"14.00\" text-anchor=\"middle\" x=\"297\" y=\"-191.3\">(None, 1)</text>\n",
       "<polyline fill=\"none\" points=\"251.68,-184.5 342.33,-184.5 \" stroke=\"black\"/>\n",
       "<text font-family=\"Times,serif\" font-size=\"14.00\" text-anchor=\"middle\" x=\"297\" y=\"-169.3\">(None, 1, 20)</text>\n",
       "</g>\n",
       "<!-- 112632756432&#45;&gt;112631706064 -->\n",
       "<g class=\"edge\" id=\"edge1\">\n",
       "<title>112632756432-&gt;112631706064</title>\n",
       "<path d=\"M171.16,-243.33C171.16,-235.18 171.16,-225.7 171.16,-216.8\" fill=\"none\" stroke=\"black\"/>\n",
       "<polygon fill=\"black\" points=\"174.66,-216.73 171.16,-206.73 167.66,-216.73 174.66,-216.73\" stroke=\"black\"/>\n",
       "</g>\n",
       "<!-- 112621713296 -->\n",
       "<g class=\"node\" id=\"node2\">\n",
       "<title>112621713296</title>\n",
       "<polygon fill=\"none\" points=\"389.53,-243.5 389.53,-287.5 660.8,-287.5 660.8,-243.5 389.53,-243.5\" stroke=\"black\"/>\n",
       "<text font-family=\"Times,serif\" font-size=\"14.00\" text-anchor=\"middle\" x=\"462.51\" y=\"-261.3\">User-Input: InputLayer</text>\n",
       "<polyline fill=\"none\" points=\"535.48,-243.5 535.48,-287.5 \" stroke=\"black\"/>\n",
       "<text font-family=\"Times,serif\" font-size=\"14.00\" text-anchor=\"middle\" x=\"563.32\" y=\"-272.3\">input:</text>\n",
       "<polyline fill=\"none\" points=\"535.48,-265.5 591.15,-265.5 \" stroke=\"black\"/>\n",
       "<text font-family=\"Times,serif\" font-size=\"14.00\" text-anchor=\"middle\" x=\"563.32\" y=\"-250.3\">output:</text>\n",
       "<polyline fill=\"none\" points=\"591.15,-243.5 591.15,-287.5 \" stroke=\"black\"/>\n",
       "<text font-family=\"Times,serif\" font-size=\"14.00\" text-anchor=\"middle\" x=\"625.98\" y=\"-272.3\">(None, 1)</text>\n",
       "<polyline fill=\"none\" points=\"591.15,-265.5 660.8,-265.5 \" stroke=\"black\"/>\n",
       "<text font-family=\"Times,serif\" font-size=\"14.00\" text-anchor=\"middle\" x=\"625.98\" y=\"-250.3\">(None, 1)</text>\n",
       "</g>\n",
       "<!-- 112621714960 -->\n",
       "<g class=\"node\" id=\"node4\">\n",
       "<title>112621714960</title>\n",
       "<polygon fill=\"none\" points=\"360.35,-162.5 360.35,-206.5 689.97,-206.5 689.97,-162.5 360.35,-162.5\" stroke=\"black\"/>\n",
       "<text font-family=\"Times,serif\" font-size=\"14.00\" text-anchor=\"middle\" x=\"452.01\" y=\"-180.3\">User-Embedding: Embedding</text>\n",
       "<polyline fill=\"none\" points=\"543.66,-162.5 543.66,-206.5 \" stroke=\"black\"/>\n",
       "<text font-family=\"Times,serif\" font-size=\"14.00\" text-anchor=\"middle\" x=\"571.49\" y=\"-191.3\">input:</text>\n",
       "<polyline fill=\"none\" points=\"543.66,-184.5 599.33,-184.5 \" stroke=\"black\"/>\n",
       "<text font-family=\"Times,serif\" font-size=\"14.00\" text-anchor=\"middle\" x=\"571.49\" y=\"-169.3\">output:</text>\n",
       "<polyline fill=\"none\" points=\"599.33,-162.5 599.33,-206.5 \" stroke=\"black\"/>\n",
       "<text font-family=\"Times,serif\" font-size=\"14.00\" text-anchor=\"middle\" x=\"644.65\" y=\"-191.3\">(None, 1)</text>\n",
       "<polyline fill=\"none\" points=\"599.33,-184.5 689.97,-184.5 \" stroke=\"black\"/>\n",
       "<text font-family=\"Times,serif\" font-size=\"14.00\" text-anchor=\"middle\" x=\"644.65\" y=\"-169.3\">(None, 1, 20)</text>\n",
       "</g>\n",
       "<!-- 112621713296&#45;&gt;112621714960 -->\n",
       "<g class=\"edge\" id=\"edge2\">\n",
       "<title>112621713296-&gt;112621714960</title>\n",
       "<path d=\"M525.16,-243.33C525.16,-235.18 525.16,-225.7 525.16,-216.8\" fill=\"none\" stroke=\"black\"/>\n",
       "<polygon fill=\"black\" points=\"528.66,-216.73 525.16,-206.73 521.66,-216.73 528.66,-216.73\" stroke=\"black\"/>\n",
       "</g>\n",
       "<!-- 112631997584 -->\n",
       "<g class=\"node\" id=\"node5\">\n",
       "<title>112631997584</title>\n",
       "<polygon fill=\"none\" points=\"49.66,-81.5 49.66,-125.5 340.67,-125.5 340.67,-81.5 49.66,-81.5\" stroke=\"black\"/>\n",
       "<text font-family=\"Times,serif\" font-size=\"14.00\" text-anchor=\"middle\" x=\"122.01\" y=\"-99.3\">Flatten-Recipe: Flatten</text>\n",
       "<polyline fill=\"none\" points=\"194.35,-81.5 194.35,-125.5 \" stroke=\"black\"/>\n",
       "<text font-family=\"Times,serif\" font-size=\"14.00\" text-anchor=\"middle\" x=\"222.18\" y=\"-110.3\">input:</text>\n",
       "<polyline fill=\"none\" points=\"194.35,-103.5 250.02,-103.5 \" stroke=\"black\"/>\n",
       "<text font-family=\"Times,serif\" font-size=\"14.00\" text-anchor=\"middle\" x=\"222.18\" y=\"-88.3\">output:</text>\n",
       "<polyline fill=\"none\" points=\"250.02,-81.5 250.02,-125.5 \" stroke=\"black\"/>\n",
       "<text font-family=\"Times,serif\" font-size=\"14.00\" text-anchor=\"middle\" x=\"295.34\" y=\"-110.3\">(None, 1, 20)</text>\n",
       "<polyline fill=\"none\" points=\"250.02,-103.5 340.67,-103.5 \" stroke=\"black\"/>\n",
       "<text font-family=\"Times,serif\" font-size=\"14.00\" text-anchor=\"middle\" x=\"295.34\" y=\"-88.3\">(None, 20)</text>\n",
       "</g>\n",
       "<!-- 112631706064&#45;&gt;112631997584 -->\n",
       "<g class=\"edge\" id=\"edge3\">\n",
       "<title>112631706064-&gt;112631997584</title>\n",
       "<path d=\"M177.6,-162.33C180.1,-154.09 183.01,-144.49 185.74,-135.51\" fill=\"none\" stroke=\"black\"/>\n",
       "<polygon fill=\"black\" points=\"189.16,-136.31 188.71,-125.73 182.46,-134.28 189.16,-136.31\" stroke=\"black\"/>\n",
       "</g>\n",
       "<!-- 4500167824 -->\n",
       "<g class=\"node\" id=\"node6\">\n",
       "<title>4500167824</title>\n",
       "<polygon fill=\"none\" points=\"371.16,-81.5 371.16,-125.5 655.17,-125.5 655.17,-81.5 371.16,-81.5\" stroke=\"black\"/>\n",
       "<text font-family=\"Times,serif\" font-size=\"14.00\" text-anchor=\"middle\" x=\"440.01\" y=\"-99.3\">Flatten-Users: Flatten</text>\n",
       "<polyline fill=\"none\" points=\"508.86,-81.5 508.86,-125.5 \" stroke=\"black\"/>\n",
       "<text font-family=\"Times,serif\" font-size=\"14.00\" text-anchor=\"middle\" x=\"536.69\" y=\"-110.3\">input:</text>\n",
       "<polyline fill=\"none\" points=\"508.86,-103.5 564.52,-103.5 \" stroke=\"black\"/>\n",
       "<text font-family=\"Times,serif\" font-size=\"14.00\" text-anchor=\"middle\" x=\"536.69\" y=\"-88.3\">output:</text>\n",
       "<polyline fill=\"none\" points=\"564.52,-81.5 564.52,-125.5 \" stroke=\"black\"/>\n",
       "<text font-family=\"Times,serif\" font-size=\"14.00\" text-anchor=\"middle\" x=\"609.85\" y=\"-110.3\">(None, 1, 20)</text>\n",
       "<polyline fill=\"none\" points=\"564.52,-103.5 655.17,-103.5 \" stroke=\"black\"/>\n",
       "<text font-family=\"Times,serif\" font-size=\"14.00\" text-anchor=\"middle\" x=\"609.85\" y=\"-88.3\">(None, 20)</text>\n",
       "</g>\n",
       "<!-- 112621714960&#45;&gt;4500167824 -->\n",
       "<g class=\"edge\" id=\"edge4\">\n",
       "<title>112621714960-&gt;4500167824</title>\n",
       "<path d=\"M521.95,-162.33C520.71,-154.18 519.27,-144.7 517.92,-135.8\" fill=\"none\" stroke=\"black\"/>\n",
       "<polygon fill=\"black\" points=\"521.35,-135.09 516.39,-125.73 514.43,-136.14 521.35,-135.09\" stroke=\"black\"/>\n",
       "</g>\n",
       "<!-- 112631639952 -->\n",
       "<g class=\"node\" id=\"node7\">\n",
       "<title>112631639952</title>\n",
       "<polygon fill=\"none\" points=\"186.72,-0.5 186.72,-44.5 509.61,-44.5 509.61,-0.5 186.72,-0.5\" stroke=\"black\"/>\n",
       "<text font-family=\"Times,serif\" font-size=\"14.00\" text-anchor=\"middle\" x=\"243.52\" y=\"-18.3\">Dot-Product: Dot</text>\n",
       "<polyline fill=\"none\" points=\"300.32,-0.5 300.32,-44.5 \" stroke=\"black\"/>\n",
       "<text font-family=\"Times,serif\" font-size=\"14.00\" text-anchor=\"middle\" x=\"328.16\" y=\"-29.3\">input:</text>\n",
       "<polyline fill=\"none\" points=\"300.32,-22.5 355.99,-22.5 \" stroke=\"black\"/>\n",
       "<text font-family=\"Times,serif\" font-size=\"14.00\" text-anchor=\"middle\" x=\"328.16\" y=\"-7.3\">output:</text>\n",
       "<polyline fill=\"none\" points=\"355.99,-0.5 355.99,-44.5 \" stroke=\"black\"/>\n",
       "<text font-family=\"Times,serif\" font-size=\"14.00\" text-anchor=\"middle\" x=\"432.8\" y=\"-29.3\">[(None, 20), (None, 20)]</text>\n",
       "<polyline fill=\"none\" points=\"355.99,-22.5 509.61,-22.5 \" stroke=\"black\"/>\n",
       "<text font-family=\"Times,serif\" font-size=\"14.00\" text-anchor=\"middle\" x=\"432.31\" y=\"-7.3\">(None, 1)</text>\n",
       "</g>\n",
       "<!-- 112631997584&#45;&gt;112631639952 -->\n",
       "<g class=\"edge\" id=\"edge5\">\n",
       "<title>112631997584-&gt;112631639952</title>\n",
       "<path d=\"M236.17,-81.33C255.28,-71.46 278.19,-59.63 298.3,-49.25\" fill=\"none\" stroke=\"black\"/>\n",
       "<polygon fill=\"black\" points=\"300.04,-52.29 307.32,-44.59 296.82,-46.07 300.04,-52.29\" stroke=\"black\"/>\n",
       "</g>\n",
       "<!-- 4500167824&#45;&gt;112631639952 -->\n",
       "<g class=\"edge\" id=\"edge6\">\n",
       "<title>4500167824-&gt;112631639952</title>\n",
       "<path d=\"M468.95,-81.33C448.15,-71.37 423.18,-59.42 401.36,-48.97\" fill=\"none\" stroke=\"black\"/>\n",
       "<polygon fill=\"black\" points=\"402.75,-45.75 392.22,-44.59 399.72,-52.07 402.75,-45.75\" stroke=\"black\"/>\n",
       "</g>\n",
       "</g>\n",
       "</svg>"
      ],
      "text/plain": [
       "<IPython.core.display.SVG object>"
      ]
     },
     "execution_count": 13,
     "metadata": {},
     "output_type": "execute_result"
    }
   ],
   "source": [
    "SVG(model_to_dot(model,  show_shapes=True, show_layer_names=True, rankdir='HB').create(prog='dot', format='svg'))"
   ]
  },
  {
   "cell_type": "code",
   "execution_count": 20,
   "metadata": {},
   "outputs": [],
   "source": [
    "#model.summary()"
   ]
  },
  {
   "cell_type": "code",
   "execution_count": 15,
   "metadata": {},
   "outputs": [
    {
     "data": {
      "text/plain": [
       "0.10121712671158442"
      ]
     },
     "execution_count": 15,
     "metadata": {},
     "output_type": "execute_result"
    }
   ],
   "source": [
    "y_hat = np.round(model.predict([test.user_id, test.recipe_id]),0)\n",
    "y_true = test.rating\n",
    "\n",
    "MAE = mean_absolute_error(y_true, y_hat)\n",
    "\n",
    "percentage_wrong = MAE/1 * 100\n",
    "percentage_wrong\n",
    "\n",
    "MAE"
   ]
  },
  {
   "cell_type": "code",
   "execution_count": 14,
   "metadata": {},
   "outputs": [
    {
     "data": {
      "text/plain": [
       "Text(0, 0.5, 'Train Error')"
      ]
     },
     "execution_count": 14,
     "metadata": {},
     "output_type": "execute_result"
    },
    {
     "data": {
      "image/png": "[encoded data removed]",
      "text/plain": [
       "<Figure size 432x288 with 1 Axes>"
      ]
     },
     "metadata": {
      "needs_background": "light"
     },
     "output_type": "display_data"
    }
   ],
   "source": [
    "pd.Series(history.history['loss']).plot(logy=True)\n",
    "plt.xlabel(\"Epoch\")\n",
    "plt.ylabel(\"Train Error\")"
   ]
  },
  {
   "cell_type": "code",
   "execution_count": null,
   "metadata": {},
   "outputs": [],
   "source": []
  },
  {
   "cell_type": "code",
   "execution_count": null,
   "metadata": {},
   "outputs": [],
   "source": []
  }
 ],
 "metadata": {
  "kernelspec": {
   "display_name": "Python 3",
   "language": "python",
   "name": "python3"
  },
  "language_info": {
   "codemirror_mode": {
    "name": "ipython",
    "version": 3
   },
   "file_extension": ".py",
   "mimetype": "text/x-python",
   "name": "python",
   "nbconvert_exporter": "python",
   "pygments_lexer": "ipython3",
   "version": "3.7.4"
  }
 },
 "nbformat": 4,
 "nbformat_minor": 2
}
